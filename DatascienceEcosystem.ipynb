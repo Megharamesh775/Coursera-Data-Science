{
 "cells": [
  {
   "cell_type": "markdown",
   "id": "88adf559-96e2-4c51-b466-09414d308036",
   "metadata": {},
   "source": [
    "# Data Science Tools and Ecosystem"
   ]
  },
  {
   "cell_type": "markdown",
   "id": "4b2d1e25-38fe-4d96-acac-c0321d245dfb",
   "metadata": {},
   "source": [
    "In this notebook, Data Science Tools and Ecosystem are summarized."
   ]
  },
  {
   "cell_type": "markdown",
   "id": "d2d3fbd8-d1a8-44ad-a235-37b335ad8184",
   "metadata": {},
   "source": [
    "#### Objectives:\n",
    "<ul>\n",
    "    <li>popular languages used by Data Scientists</li>\n",
    "    <li>commonly used libraries used by Data Scientists</li>\n",
    "    <li>Datascience tools</li>\n",
    "    <li>arithmetic operations used in python</li>\n",
    "</ul>"
   ]
  },
  {
   "cell_type": "markdown",
   "id": "1bca13a8-1b0d-430d-b2d1-9271775fb813",
   "metadata": {},
   "source": [
    "Some of the popular languages that Data Scientists use are:\n",
    "<ol>\n",
    "    <li>Python</li>\n",
    "    <li>R</li>\n",
    "    <li>Java</li>\n",
    "</ol>\n",
    "\n"
   ]
  },
  {
   "cell_type": "markdown",
   "id": "1d1695f2-080a-42b2-8310-c3553b869de4",
   "metadata": {},
   "source": [
    "Some of the commonly used libraries used by Data Scientists include:\n",
    "<ol>\n",
    "    <li>Seaborn</li>\n",
    "    <li>numpy</li>\n",
    "    <li>pandas</li>\n",
    "    <li>Scikit Learn</li>\n",
    "</ol>"
   ]
  },
  {
   "cell_type": "markdown",
   "id": "1dae9fd7-66b4-4ccb-9f14-d039d159ee67",
   "metadata": {},
   "source": [
    "<table>\n",
    "<tr>\n",
    "<th>Data Science Tools</th>\n",
    "</tr>\n",
    "<tr><td>Jupyter</td></tr>\n",
    "<tr><td>Google Colab</td></tr>\n",
    "<tr><td>IBM Watson Studio</td></tr>\n",
    "</table>"
   ]
  },
  {
   "cell_type": "markdown",
   "id": "9f47f486-23f2-4e12-b4fc-568cd5ab46ee",
   "metadata": {},
   "source": [
    "### Below are a few examples of evaluating arithmetic expressions in Python"
   ]
  },
  {
   "cell_type": "markdown",
   "id": "8385c918-d850-427a-ac82-1df30407deba",
   "metadata": {},
   "source": [
    "<ul>\n",
    "    <li>$5+5=10$</li>\n",
    "    <li>$10/2=5$</li>\n",
    "    <li>$5*2=10$</li>\n",
    "</ul>\n"
   ]
  },
  {
   "cell_type": "code",
   "execution_count": 4,
   "id": "74c35d06-33b3-4dd9-b0e3-7f8996bf4afc",
   "metadata": {},
   "outputs": [
    {
     "data": {
      "text/plain": [
       "17"
      ]
     },
     "execution_count": 4,
     "metadata": {},
     "output_type": "execute_result"
    }
   ],
   "source": [
    "#This a simple arithmetic expression to mutiply then add integers\n",
    "(3*4)+5"
   ]
  },
  {
   "cell_type": "code",
   "execution_count": 5,
   "id": "2f572a0f-1f89-4c43-8e63-5384d3a6c0d4",
   "metadata": {},
   "outputs": [
    {
     "data": {
      "text/plain": [
       "3.3333333333333335"
      ]
     },
     "execution_count": 5,
     "metadata": {},
     "output_type": "execute_result"
    }
   ],
   "source": [
    "# This will convert 200 minutes to hours by diving by 60\n",
    "200/60"
   ]
  },
  {
   "cell_type": "markdown",
   "id": "37c6618e-3346-4bda-88ee-ad3d5365787e",
   "metadata": {},
   "source": [
    "## Author\n",
    "Megha"
   ]
  },
  {
   "cell_type": "code",
   "execution_count": null,
   "id": "cfec19bb-9315-4755-b9b5-ece6ce646f66",
   "metadata": {},
   "outputs": [],
   "source": []
  }
 ],
 "metadata": {
  "kernelspec": {
   "display_name": "Python 3 (ipykernel)",
   "language": "python",
   "name": "python3"
  },
  "language_info": {
   "codemirror_mode": {
    "name": "ipython",
    "version": 3
   },
   "file_extension": ".py",
   "mimetype": "text/x-python",
   "name": "python",
   "nbconvert_exporter": "python",
   "pygments_lexer": "ipython3",
   "version": "3.11.4"
  }
 },
 "nbformat": 4,
 "nbformat_minor": 5
}
